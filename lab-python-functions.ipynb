{
 "cells": [
  {
   "cell_type": "markdown",
   "id": "25d7736c-ba17-4aff-b6bb-66eba20fbf4e",
   "metadata": {},
   "source": [
    "# Lab | Functions"
   ]
  },
  {
   "cell_type": "markdown",
   "id": "0c581062-8967-4d93-b06e-62833222f930",
   "metadata": {
    "tags": []
   },
   "source": [
    "## Exercise: Managing Customer Orders with Functions\n",
    "\n",
    "In the previous exercise, you improved the code for managing customer orders by using loops and flow control. Now, let's take it a step further and refactor the code by introducing functions.\n",
    "\n",
    "Follow the steps below to complete the exercise:\n",
    "\n",
    "1. Define a function named `initialize_inventory` that takes `products` as a parameter. Inside the function, implement the code for initializing the inventory dictionary using a loop and user input.\n",
    "\n",
    "2. Define a function named `get_customer_orders` that takes no parameters. Inside the function, implement the code for prompting the user to enter the product names using a loop. The function should return the `customer_orders` set.\n",
    "\n",
    "3. Define a function named `update_inventory` that takes `customer_orders` and `inventory` as parameters. Inside the function, implement the code for updating the inventory dictionary based on the customer orders.\n",
    "\n",
    "4. Define a function named `calculate_order_statistics` that takes `customer_orders` and `products` as parameters. Inside the function, implement the code for calculating the order statistics (total products ordered, and percentage of unique products ordered). The function should return these values.\n",
    "\n",
    "5. Define a function named `print_order_statistics` that takes `order_statistics` as a parameter. Inside the function, implement the code for printing the order statistics.\n",
    "\n",
    "6. Define a function named `print_updated_inventory` that takes `inventory` as a parameter. Inside the function, implement the code for printing the updated inventory.\n",
    "\n",
    "7. Call the functions in the appropriate sequence to execute the program and manage customer orders.\n",
    "\n",
    "Hints for functions:\n",
    "\n",
    "- Consider the input parameters required for each function and their return values.\n",
    "- Utilize function parameters and return values to transfer data between functions.\n",
    "- Test your functions individually to ensure they work correctly.\n",
    "\n",
    "\n"
   ]
  },
  {
   "cell_type": "code",
   "execution_count": 72,
   "id": "05bc7018",
   "metadata": {},
   "outputs": [],
   "source": [
    "inventory = {}\n",
    "\n",
    "def initialize_inventory():\n",
    "    final = 0\n",
    "    while final != 1:\n",
    "        producto = input(f\"introduce el tipo de producto a inventariar: \")\n",
    "        cantidad = int(input(f\"introduce la cantidad del producto que hay en el inventario: \"))\n",
    "        inventory [producto] = int(cantidad)\n",
    "        otroproducto = input (\"Desea introducir otro producto (SI/NO): \")\n",
    "        otroproducto.lower()\n",
    "        if otroproducto == \"no\":\n",
    "            final += 1\n",
    "            print(f\"Elinventario de la tienda es: {inventory}\")\n"
   ]
  },
  {
   "cell_type": "code",
   "execution_count": 73,
   "id": "8b666fad",
   "metadata": {},
   "outputs": [],
   "source": [
    "customer_orders = {}\n",
    "\n",
    "def get_customer_orders():\n",
    "    finalpedido = 0\n",
    "    while finalpedido != 1:\n",
    "        pedido = input(f\"introduce el tipo de producto a comprar de la siguiente lista {inventory.keys()}: \")\n",
    "        cantidadpedido = int(input(f\"introduce la cantidad del producto a pedir: \"))\n",
    "        customer_orders [pedido] = int(cantidadpedido)\n",
    "        otroproducto = input (\"Desea pedir mas productos (SI/NO): \")\n",
    "        otroproducto.lower()\n",
    "        if otroproducto == \"no\":\n",
    "            finalpedido += 1\n",
    "            print(f\"El pedido del cliente es: {customer_orders}\")"
   ]
  },
  {
   "cell_type": "code",
   "execution_count": 56,
   "id": "4f40d9a3",
   "metadata": {},
   "outputs": [],
   "source": [
    "\n",
    "def update_inventory():    \n",
    "    for key, value in inventory.items():\n",
    "        for key_customer, value_customer in customer_orders.items():\n",
    "            if key == key_customer:\n",
    "                inventory [key] = int(value) - int(value_customer)\n",
    "    print (f\"El inventario actual actualizado es : {inventory}\")"
   ]
  },
  {
   "cell_type": "code",
   "execution_count": 67,
   "id": "d081adfd",
   "metadata": {},
   "outputs": [],
   "source": [
    "def calculate_order_statistics():\n",
    "    total = 0\n",
    "    for value in inventory.values():\n",
    "        total += int(value)\n",
    "    print (f\"total = {total}\")\n",
    "    \n",
    "    totalpedido = 0\n",
    "    for i in customer_orders.values():\n",
    "        totalpedido += int(i)\n",
    "    print (f\"el pedido total del cliente es {totalpedido}\")\n",
    "\n",
    "    porcentajesobrestock = ((totalpedido*100)/total)\n",
    "    print (f\"el porcentaje del pedido sobre el stock es: {porcentajesobrestock} %\")\n",
    "\n",
    "    tuple = (f\"\"\"Estadísticas del pedido:\n",
    "    Total Productos Pedidos: {totalpedido}\n",
    "    Porcentaje de productos pedidos sobre stock total: {porcentajesobrestock} % \"\"\")\n",
    "    print (tuple)"
   ]
  },
  {
   "cell_type": "code",
   "execution_count": 74,
   "id": "876e764a",
   "metadata": {},
   "outputs": [],
   "source": [
    "def ejercutar_programa_inventario():\n",
    "    initialize_inventory()\n",
    "    get_customer_orders()\n",
    "    update_inventory()\n",
    "    calculate_order_statistics()\n",
    "    "
   ]
  },
  {
   "cell_type": "code",
   "execution_count": 70,
   "id": "e23aa1f1",
   "metadata": {},
   "outputs": [
    {
     "name": "stdout",
     "output_type": "stream",
     "text": [
      "{'pera': 5, 'uva': 16, 'manzana': 8}\n",
      "{'uva': 2, 'pera': 2}\n",
      "El inventario actual actualizado es : {'pera': 3, 'uva': 14, 'manzana': 8}\n",
      "total = 25\n",
      "el pedido total del cliente es 4\n",
      "el porcentaje del pedido sobre el stock es: 16.0 %\n",
      "Estadísticas del pedido:\n",
      "    Total Productos Pedidos: 4\n",
      "    Porcentaje de productos pedidos sobre stock total: 16.0 % \n"
     ]
    }
   ],
   "source": [
    "ejercutar_programa()"
   ]
  },
  {
   "cell_type": "code",
   "execution_count": null,
   "id": "257460b4",
   "metadata": {},
   "outputs": [],
   "source": []
  }
 ],
 "metadata": {
  "kernelspec": {
   "display_name": "Python 3 (ipykernel)",
   "language": "python",
   "name": "python3"
  },
  "language_info": {
   "codemirror_mode": {
    "name": "ipython",
    "version": 3
   },
   "file_extension": ".py",
   "mimetype": "text/x-python",
   "name": "python",
   "nbconvert_exporter": "python",
   "pygments_lexer": "ipython3",
   "version": "3.11.9"
  }
 },
 "nbformat": 4,
 "nbformat_minor": 5
}
