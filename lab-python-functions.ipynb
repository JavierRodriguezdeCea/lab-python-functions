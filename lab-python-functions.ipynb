{
 "cells": [
  {
   "cell_type": "markdown",
   "id": "25d7736c-ba17-4aff-b6bb-66eba20fbf4e",
   "metadata": {},
   "source": [
    "# Lab | Functions"
   ]
  },
  {
   "cell_type": "markdown",
   "id": "0c581062-8967-4d93-b06e-62833222f930",
   "metadata": {
    "tags": []
   },
   "source": [
    "## Exercise: Managing Customer Orders with Functions\n",
    "\n",
    "In the previous exercise, you improved the code for managing customer orders by using loops and flow control. Now, let's take it a step further and refactor the code by introducing functions.\n",
    "\n",
    "Follow the steps below to complete the exercise:\n",
    "\n",
    "1. Define a function named `initialize_inventory` that takes `products` as a parameter. Inside the function, implement the code for initializing the inventory dictionary using a loop and user input.\n",
    "\n",
    "2. Define a function named `get_customer_orders` that takes no parameters. Inside the function, implement the code for prompting the user to enter the product names using a loop. The function should return the `customer_orders` set.\n",
    "\n",
    "3. Define a function named `update_inventory` that takes `customer_orders` and `inventory` as parameters. Inside the function, implement the code for updating the inventory dictionary based on the customer orders.\n",
    "\n",
    "4. Define a function named `calculate_order_statistics` that takes `customer_orders` and `products` as parameters. Inside the function, implement the code for calculating the order statistics (total products ordered, and percentage of unique products ordered). The function should return these values.\n",
    "\n",
    "5. Define a function named `print_order_statistics` that takes `order_statistics` as a parameter. Inside the function, implement the code for printing the order statistics.\n",
    "\n",
    "6. Define a function named `print_updated_inventory` that takes `inventory` as a parameter. Inside the function, implement the code for printing the updated inventory.\n",
    "\n",
    "7. Call the functions in the appropriate sequence to execute the program and manage customer orders.\n",
    "\n",
    "Hints for functions:\n",
    "\n",
    "- Consider the input parameters required for each function and their return values.\n",
    "- Utilize function parameters and return values to transfer data between functions.\n",
    "- Test your functions individually to ensure they work correctly.\n",
    "\n",
    "\n"
   ]
  },
  {
   "cell_type": "code",
   "execution_count": 71,
   "id": "05bc7018",
   "metadata": {},
   "outputs": [
    {
     "name": "stdout",
     "output_type": "stream",
     "text": [
      "Elinventario de la tienda es: {'t-shirt': 10, 'mug': 20, 'hat': 30, 'book': 40, 'keychain': 50}\n"
     ]
    }
   ],
   "source": [
    "inventory = {}\n",
    "\n",
    "def initialize_inventory(products):\n",
    "    inventory = {}\n",
    "    for product in products:\n",
    "        cantidad = input(f\"introduce la cantidad del producto que hay en el inventario: \")\n",
    "        inventory [product] = int(cantidad)\n",
    "    return inventory\n",
    "\n",
    "\n",
    "products = [\"t-shirt\", \"mug\", \"hat\", \"book\", \"keychain\"]\n",
    "inventory = initialize_inventory(products)\n",
    "print(f\"Elinventario de la tienda es: {inventory}\")\n"
   ]
  },
  {
   "cell_type": "code",
   "execution_count": 72,
   "id": "8b666fad",
   "metadata": {},
   "outputs": [
    {
     "name": "stdout",
     "output_type": "stream",
     "text": [
      "El pedido del cliente es: {'hat', 'mug'}\n"
     ]
    }
   ],
   "source": [
    "\n",
    "\n",
    "def get_customer_orders():\n",
    "    customer_orders = set()\n",
    "    finalpedido = 0\n",
    "    while finalpedido != 1:\n",
    "        pedido = input(f\"introduce el tipo de producto a comprar de la siguiente lista {products}: \")\n",
    "        customer_orders.add(pedido)\n",
    "        otroproducto = input (\"Desea pedir mas productos (SI/NO): \")\n",
    "        otroproducto.lower()\n",
    "        if otroproducto == \"no\":\n",
    "            finalpedido += 1\n",
    "    return customer_orders\n",
    "\n",
    "customer_orders = get_customer_orders()\n",
    "print(f\"El pedido del cliente es: {customer_orders}\")"
   ]
  },
  {
   "cell_type": "code",
   "execution_count": 73,
   "id": "4f40d9a3",
   "metadata": {},
   "outputs": [
    {
     "name": "stdout",
     "output_type": "stream",
     "text": [
      "El inventario actual actualizado es : {'t-shirt': 10, 'mug': 19, 'hat': 29, 'book': 40, 'keychain': 50}\n"
     ]
    }
   ],
   "source": [
    "\n",
    "def update_inventory(customer_orders, inventory):    \n",
    "    for product in customer_orders:\n",
    "        if product in inventory:\n",
    "            inventory[product] -= 1\n",
    "    return inventory\n",
    "\n",
    "inventory = update_inventory(customer_orders, inventory)\n",
    "print (f\"El inventario actual actualizado es : {inventory}\")"
   ]
  },
  {
   "cell_type": "code",
   "execution_count": null,
   "id": "52bf459e",
   "metadata": {},
   "outputs": [],
   "source": []
  },
  {
   "cell_type": "code",
   "execution_count": 74,
   "id": "d081adfd",
   "metadata": {},
   "outputs": [
    {
     "name": "stdout",
     "output_type": "stream",
     "text": [
      "(2, 40.0)\n"
     ]
    }
   ],
   "source": [
    "def calculate_order_statistics(customer_orders, products):\n",
    "    total_products_ordered = len(customer_orders)\n",
    "    percentage_ordered = (total_products_ordered*100)/len(products)\n",
    "    return total_products_ordered, percentage_ordered\n",
    "    \n",
    "\n",
    "order_statistics = calculate_order_statistics(customer_orders, products)\n",
    "print (order_statistics)"
   ]
  },
  {
   "cell_type": "code",
   "execution_count": 75,
   "id": "429df3c8",
   "metadata": {},
   "outputs": [],
   "source": [
    "def print_order_statistics(order_stadistics):\n",
    "    print(\"order statistics\")\n",
    "    print(f\"Total Products Ordered: {order_statistics[0]}\")\n",
    "    print(f\"Percentage of Products Ordered: {order_statistics[1]}%\")\n",
    "    "
   ]
  },
  {
   "cell_type": "code",
   "execution_count": 76,
   "id": "9b804625",
   "metadata": {},
   "outputs": [],
   "source": [
    "def print_update_inventory(inventory):\n",
    "    print(f\"El inventario actualizado es: {inventory}\")"
   ]
  },
  {
   "cell_type": "code",
   "execution_count": 77,
   "id": "876e764a",
   "metadata": {},
   "outputs": [],
   "source": [
    "def ejercutar_programa():\n",
    "    initialize_inventory(products)\n",
    "    get_customer_orders()\n",
    "    update_inventory(customer_orders, inventory)\n",
    "    calculate_order_statistics(customer_orders, products)\n",
    "    print_order_statistics(order_statistics)\n",
    "    print_update_inventory(inventory)\n",
    "    "
   ]
  },
  {
   "cell_type": "code",
   "execution_count": 78,
   "id": "e23aa1f1",
   "metadata": {},
   "outputs": [
    {
     "name": "stdout",
     "output_type": "stream",
     "text": [
      "order statistics\n",
      "Total Products Ordered: 2\n",
      "Percentage of Products Ordered: 40.0%\n",
      "El inventario actualizado es: {'t-shirt': 10, 'mug': 19, 'hat': 29, 'book': 40, 'keychain': 50}\n"
     ]
    }
   ],
   "source": [
    "ejercutar_programa()"
   ]
  },
  {
   "cell_type": "code",
   "execution_count": null,
   "id": "257460b4",
   "metadata": {},
   "outputs": [],
   "source": []
  },
  {
   "cell_type": "code",
   "execution_count": null,
   "id": "5e011321",
   "metadata": {},
   "outputs": [],
   "source": []
  }
 ],
 "metadata": {
  "kernelspec": {
   "display_name": "Python 3 (ipykernel)",
   "language": "python",
   "name": "python3"
  },
  "language_info": {
   "codemirror_mode": {
    "name": "ipython",
    "version": 3
   },
   "file_extension": ".py",
   "mimetype": "text/x-python",
   "name": "python",
   "nbconvert_exporter": "python",
   "pygments_lexer": "ipython3",
   "version": "3.11.9"
  }
 },
 "nbformat": 4,
 "nbformat_minor": 5
}
